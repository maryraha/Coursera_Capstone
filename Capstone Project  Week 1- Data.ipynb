{
 "cells": [
  {
   "cell_type": "markdown",
   "metadata": {},
   "source": [
    "# Data"
   ]
  },
  {
   "cell_type": "markdown",
   "metadata": {},
   "source": [
    "## For data collection, extract the name of the 23 neighborhoods of Boston from Wikipedia: \n",
    "\n",
    "###   https://en.wikipedia.org/wiki/Neighborhoods_in_Boston\n",
    " \n",
    "## Next, use the Geocoder Python package to get the latitude and the longitude coordinates of all Boston neighborhoods. Then use Foursquare API to get the information about the cinema, park, garden, playground, and theater venues as well as the ice cream shops near each neighborhood. The average rent price for each neighborhood of Boston will also get extracted from the following link:\n",
    "### https://www.zillow.com/research/data/\n",
    "\n",
    "***\n"
   ]
  }
 ],
 "metadata": {
  "kernelspec": {
   "display_name": "Python 3",
   "language": "python",
   "name": "python3"
  },
  "language_info": {
   "codemirror_mode": {
    "name": "ipython",
    "version": 3
   },
   "file_extension": ".py",
   "mimetype": "text/x-python",
   "name": "python",
   "nbconvert_exporter": "python",
   "pygments_lexer": "ipython3",
   "version": "3.6.8"
  }
 },
 "nbformat": 4,
 "nbformat_minor": 2
}
